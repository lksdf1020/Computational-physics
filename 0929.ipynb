{
 "cells": [
  {
   "cell_type": "markdown",
   "metadata": {},
   "source": [
    "Supervised learning : Label이 있는 data"
   ]
  },
  {
   "cell_type": "markdown",
   "metadata": {},
   "source": [
    "데이터를 받아서 함수를 찾고 나서(Machine learning)\n",
    "\n",
    "1. Regression(회귀) - y값을 실수로 예측하는 것  \n",
    "\n",
    "저번주 내용(Boston House price)\n",
    "2. Classification(분류) - y값을 0, -1, 1같이 양자화된 값으로 받아들이는 것  \n",
    "\\\n",
    "Iris classification\\\n",
    "분꽃의 종류 3가지  \n",
    "\n",
    "1) 길이 ₩₩ , 넓이 == , ....   \n",
    "\n",
    "2) 길이 ₩- , 넓이 =₩ , ....    \n",
    "\n",
    "3) 길이 ₩= , 넓이 =- , .... \n",
    "\n",
    "여러가지 특성을 기준으로 분꽃을 분류하는 것(Classification)"
   ]
  },
  {
   "cell_type": "markdown",
   "metadata": {},
   "source": [
    "#####Classification\n",
    "\n",
    "1. decision tree ** 다음주\n",
    "2. Random forest - decision tree를 여러번 하는 과정임\n",
    "3. regression based classification ***이번시간\n"
   ]
  },
  {
   "cell_type": "markdown",
   "metadata": {},
   "source": [
    "## 1. logistic regression (Classification)"
   ]
  },
  {
   "cell_type": "markdown",
   "metadata": {},
   "source": [
    "### Sigmold Function : $$ f(x) = \\frac{1}{1+e^{-wx}} $$\n",
    "\n",
    "만약 features가 2개라면 : $$ f(x) = \\frac{1}{1+e^{-(w_1x_1+w_0)}} $$\n",
    "\n",
    "if $$  wx factor -> \\infty \\\\\\\\\\\\\\\\ then, f(x) -> 1 $$\n",
    "\n",
    "if $$ if  wx factor -> -\\infty \\\\\\\\\\\\\\\\ then, f(x) -> 0 $$\n"
   ]
  },
  {
   "cell_type": "code",
   "execution_count": 23,
   "metadata": {},
   "outputs": [],
   "source": [
    "import numpy as np\n",
    "import matplotlib.pyplot as plt"
   ]
  },
  {
   "cell_type": "code",
   "execution_count": 27,
   "metadata": {},
   "outputs": [
    {
     "data": {
      "text/plain": [
       "[<matplotlib.lines.Line2D at 0x7faf25730a00>]"
      ]
     },
     "execution_count": 27,
     "metadata": {},
     "output_type": "execute_result"
    },
    {
     "data": {
      "image/png": "[encoded data removed]",
      "text/plain": [
       "<Figure size 432x288 with 1 Axes>"
      ]
     },
     "metadata": {
      "needs_background": "light"
     },
     "output_type": "display_data"
    }
   ],
   "source": [
    "exam = [90,86,72,80,57,68,64,75]\n",
    "grade = [1,1,1,1,0,0,0,0]\n",
    "plt.plot(exam, [i if i ==1 else None for i in grade],'rs')\n",
    "plt.plot(exam, [i if i ==0 else None for i in grade], 'bo')"
   ]
  },
  {
   "cell_type": "code",
   "execution_count": 75,
   "metadata": {
    "scrolled": true
   },
   "outputs": [
    {
     "data": {
      "text/plain": [
       "[<matplotlib.lines.Line2D at 0x7faf24ebb4f0>]"
      ]
     },
     "execution_count": 75,
     "metadata": {},
     "output_type": "execute_result"
    },
    {
     "data": {
      "image/png": "[encoded data removed]",
      "text/plain": [
       "<Figure size 432x288 with 1 Axes>"
      ]
     },
     "metadata": {
      "needs_background": "light"
     },
     "output_type": "display_data"
    }
   ],
   "source": [
    "x = np.linspace(50,100,50)\n",
    "def sig(x,w,w_0):\n",
    "    return 1.0/(1+np.exp(-w*x-w_0))\n",
    "plt.plot(x,sig(x,1,-75.2),'k-')\n",
    "plt.plot(exam, [i if i ==1 else None for i in grade],'rs')\n",
    "plt.plot(exam, [i if i ==0 else None for i in grade], 'bo')"
   ]
  },
  {
   "cell_type": "markdown",
   "metadata": {},
   "source": [
    "Maximum Likelihood Estimation + Graient Descent Method"
   ]
  },
  {
   "cell_type": "markdown",
   "metadata": {},
   "source": [
    "\n",
    "How to find the best fitted line?\n",
    "Maximum Likelihood Estimation (MLE) + Gradient Descent Method (GD)\n",
    "개별 데이터들이 독립적이라고 가정하면 최대 가능도(maximum likelihood)는 다음처럼 주어진다.$$ L(w)= \\prod_{i} f_w(x_i)^{y_i} [1-f_w(x_i) ]^{1-y_i}, $$여기에서 $f$는 모델 예측값, $y$는 실제 레이블을 의미한다. 위의 식을 살펴보면 만약 $y_i=1$이면 $f_w$이고 $y_i=0$이면 $(1-f_w)$로 주어지는 값임을 알 수 있다. 따라서 다음의 식을 최대화하는 $w$를 찾으면 좋은 fitting을 구할 수 있다. 위의 식을 그대로 최대화해도 되지만 계산의 편의를 위해 $-\\log$를 취해서 log likelihood를 최소화하는 과정을 통해 $w$를 찾아보자.\n",
    "\n",
    "log likelihood 함수는 다음처럼 주어진다.$$\n",
    "-\\log L(w)= -\\sum_i [ y_i \\log f_w + (1-y) \\log (1-f_w) ].$$이 식을 cross entropy (CE) 혹은 log loss function 이라고 부른다. 이 함수가 최소가 되려면 미분값이 $0$이 되는 조건을 만족하면 해야 한다.$$\\begin{align}\n",
    "-\\frac{\\partial \\log L(w)}{\\partial w} &amp;= -\\frac{\\partial }{\\partial w}  y_i \\log f_w + (1-y_i) \\log (1-f_w)  \\\\\n",
    "&amp;= -\\frac{y_i }{f_w} \\frac{\\partial f_w}{\\partial w} + \\frac{1-y_i }{1-f_w} \\frac{\\partial f_w}{\\partial w} \\\\\n",
    "&amp;= -\\frac{y_i }{f_w} f_w(1-f_w)x_i + \\frac{1-y_i }{1-f_w} f_w(1-f_w)x_i \\\\\n",
    "&amp;= -\\frac{y_i }{f_w} f_w(1-f_w)x_i + \\frac{1-y_i }{1-f_w} f_w(1-f_w)x_i \\\\\n",
    "&amp;= (f_w - y_i)x_i =0. \\end{align}$$\n",
    "\n",
    "아쉽게도 $w$를 해석적으로 구할 수 있는 방법은 없지만 위의 결과와 경사하강법(Gradient Descent method)를 활용하면 손쉽게 최소값을 찾을 수 있다. 즉 다음의 식을 따라 오차(cross entropy)를 줄이는 방향으로 $w$의 값을 바꾸면서 오차가 최소값까지 도달할 때까지 위의 계산을 반복한다.$$\\begin{align} w&amp;=w- \\eta \\frac{\\partial }{\\partial w}[-\\log L(w)]\\\\\n",
    "&amp;=w+\\eta \\sum_i (y_i - f_w )x_i \\end{align}$$"
   ]
  },
  {
   "cell_type": "markdown",
   "metadata": {},
   "source": [
    "#### Logistic regression 실습"
   ]
  },
  {
   "cell_type": "code",
   "execution_count": 84,
   "metadata": {},
   "outputs": [],
   "source": [
    "from sklearn.linear_model import LogisticRegression\n",
    "X = [[i] for i in exam]\n",
    "y = grade"
   ]
  },
  {
   "cell_type": "code",
   "execution_count": 85,
   "metadata": {},
   "outputs": [
    {
     "data": {
      "text/plain": [
       "LogisticRegression()"
      ]
     },
     "execution_count": 85,
     "metadata": {},
     "output_type": "execute_result"
    }
   ],
   "source": [
    "log_reg = LogisticRegression(solver= 'lbfgs')\n",
    "log_reg.fit(X,y)"
   ]
  },
  {
   "cell_type": "code",
   "execution_count": 57,
   "metadata": {},
   "outputs": [
    {
     "data": {
      "text/plain": [
       "(array([[0.32895009]]), array([-24.25957919]))"
      ]
     },
     "execution_count": 57,
     "metadata": {},
     "output_type": "execute_result"
    }
   ],
   "source": [
    "log_reg.coef_, log_reg.intercept_"
   ]
  },
  {
   "cell_type": "code",
   "execution_count": 58,
   "metadata": {},
   "outputs": [
    {
     "data": {
      "text/plain": [
       "array([1])"
      ]
     },
     "execution_count": 58,
     "metadata": {},
     "output_type": "execute_result"
    }
   ],
   "source": [
    "log_reg.predict([[100]])"
   ]
  },
  {
   "cell_type": "code",
   "execution_count": 73,
   "metadata": {},
   "outputs": [
    {
     "data": {
      "text/plain": [
       "[<matplotlib.lines.Line2D at 0x7faf26047340>]"
      ]
     },
     "execution_count": 73,
     "metadata": {},
     "output_type": "execute_result"
    },
    {
     "data": {
      "image/png": "[encoded data removed]",
      "text/plain": [
       "<Figure size 432x288 with 1 Axes>"
      ]
     },
     "metadata": {
      "needs_background": "light"
     },
     "output_type": "display_data"
    }
   ],
   "source": [
    "x = [[i] for i in np.linspace(50,100,100)]\n",
    "x_0 = np.linspace(50,100,1000)\n",
    "plt.plot(X,y,'o')\n",
    "plt.plot(x,log_reg.predict(x))\n",
    "plt.plot(x_0,sig(x_0,0.3285009,24.25957919),'k-')"
   ]
  },
  {
   "cell_type": "markdown",
   "metadata": {},
   "source": [
    "고차원 데이터의 경우 잘 맞지 않을 수 있음. \\\n",
    "단순 증가, 감수의 경우에만 잘 맞아떨어짐. \\\n",
    "따라서, 항상 Underfitting의 가능성이 아주 높음"
   ]
  },
  {
   "cell_type": "code",
   "execution_count": 50,
   "metadata": {},
   "outputs": [
    {
     "data": {
      "text/plain": [
       "0.75"
      ]
     },
     "execution_count": 50,
     "metadata": {},
     "output_type": "execute_result"
    }
   ],
   "source": [
    "log_reg.score(X,y)"
   ]
  },
  {
   "cell_type": "markdown",
   "metadata": {},
   "source": [
    "### 이러한 데이터는 Logistic Regression을 통해서 분석할 수 없다"
   ]
  },
  {
   "cell_type": "code",
   "execution_count": 86,
   "metadata": {},
   "outputs": [
    {
     "data": {
      "text/plain": [
       "[<matplotlib.lines.Line2D at 0x7faf264c86a0>]"
      ]
     },
     "execution_count": 86,
     "metadata": {},
     "output_type": "execute_result"
    },
    {
     "data": {
      "image/png": "[encoded data removed]",
      "text/plain": [
       "<Figure size 432x288 with 1 Axes>"
      ]
     },
     "metadata": {
      "needs_background": "light"
     },
     "output_type": "display_data"
    }
   ],
   "source": [
    "exam = [90,86,72,80,57,68,64,75,10,5]\n",
    "grade = [1,1,1,1,0,0,0,0,1,1]\n",
    "plt.plot(exam, [i if i ==1 else None for i in grade],'rs')\n",
    "plt.plot(exam, [i if i ==0 else None for i in grade], 'bo')\n",
    "x = [[i] for i in np.linspace(50,100,100)]\n",
    "plt.plot(X,y,'o')\n",
    "plt.plot(x,log_reg.predict(x))"
   ]
  },
  {
   "cell_type": "code",
   "execution_count": 87,
   "metadata": {},
   "outputs": [
    {
     "data": {
      "text/plain": [
       "0.6"
      ]
     },
     "execution_count": 87,
     "metadata": {},
     "output_type": "execute_result"
    }
   ],
   "source": [
    "log_reg.score(X,y)"
   ]
  },
  {
   "cell_type": "markdown",
   "metadata": {},
   "source": [
    "### Softmax Regression (Multinomial Logistic Regression)\n",
    "\n",
    "- 여러 개의 class를 가지는 분류 방법(나중에 다시 배울 것)\n",
    "- 앞서 한 Regression은 0,1 두가지만 가능"
   ]
  },
  {
   "cell_type": "markdown",
   "metadata": {},
   "source": [
    "## 2. Support Vector Machine(SVM)\n",
    "매우 강력한 분류 기법, 핵심 개념도 쉬움"
   ]
  },
  {
   "cell_type": "code",
   "execution_count": 19,
   "metadata": {},
   "outputs": [
    {
     "data": {
      "text/plain": [
       "[<matplotlib.lines.Line2D at 0x7faf2532e430>]"
      ]
     },
     "execution_count": 19,
     "metadata": {},
     "output_type": "execute_result"
    },
    {
     "data": {
      "image/png": "[encoded data removed]",
      "text/plain": [
       "<Figure size 432x288 with 1 Axes>"
      ]
     },
     "metadata": {
      "needs_background": "light"
     },
     "output_type": "display_data"
    }
   ],
   "source": [
    "green = [[1,4,6,2,5,7],[10,13,11,9,8,12]]\n",
    "blue = [[11,9,8,15,16],[2,5,4,3,6]]\n",
    "plt.plot(green[0],green[1],'ro')\n",
    "plt.plot(blue[0],blue[1],'bo')\n",
    "plt.plot([0,16],[-1,10],'r-')\n",
    "plt.plot([0,16],[0,13],'r--')"
   ]
  },
  {
   "cell_type": "markdown",
   "metadata": {},
   "source": [
    "점선이 더 좋은 구분선같이 보임 - 왜? 점선이 실선보다 더 멀리 있어보임"
   ]
  },
  {
   "cell_type": "markdown",
   "metadata": {},
   "source": [
    "각 집단에서 구분선까지 가장 가까운 점과 구분선사이의 거리를 Margin이라고 부른다. 이 마진을 최대화 하는 선을 찾는 것이 목표이다.\n"
   ]
  },
  {
   "cell_type": "markdown",
   "metadata": {},
   "source": [
    "*** 하지만, 그렇게 단순하지만은 않음. 어떤 데이터는 다른 그룹 속에 속해있기도 함.. 따라서 답은 없음. 데이터가 많을 수록 더 좋은 결과(확률)을 얻을 뿐, 정해진 답이 없다."
   ]
  },
  {
   "cell_type": "markdown",
   "metadata": {},
   "source": [
    "####  SVM(SVC) 실습"
   ]
  },
  {
   "cell_type": "code",
   "execution_count": 116,
   "metadata": {},
   "outputs": [],
   "source": [
    "from sklearn.svm import SVC # Support vector classification\n",
    "X1 = np.concatenate((np.transpose(green),np.transpose(blue)))\n",
    "y = [1,1,1,1,1,1,0,0,0,0,0]"
   ]
  },
  {
   "cell_type": "code",
   "execution_count": 117,
   "metadata": {},
   "outputs": [
    {
     "data": {
      "text/plain": [
       "array([ 2.71399982,  2.71448661,  1.57167583,  2.14259443,  0.99994591,\n",
       "        1.5718381 , -2.42848643, -0.99989182, -1.00005409, -3.28518886,\n",
       "       -2.71345894])"
      ]
     },
     "execution_count": 117,
     "metadata": {},
     "output_type": "execute_result"
    }
   ],
   "source": [
    "svc = SVC(kernel = 'linear')\n",
    "svc.fit(X1,y)\n",
    "svc.decision_function(X1)"
   ]
  },
  {
   "cell_type": "code",
   "execution_count": 122,
   "metadata": {},
   "outputs": [
    {
     "data": {
      "text/plain": [
       "(array([[-0.28562156,  0.28578383]]), array([0.14178311]))"
      ]
     },
     "execution_count": 122,
     "metadata": {},
     "output_type": "execute_result"
    }
   ],
   "source": [
    "svc.coef_, svc.intercept_"
   ]
  },
  {
   "cell_type": "code",
   "execution_count": 119,
   "metadata": {},
   "outputs": [
    {
     "data": {
      "text/plain": [
       "array([1])"
      ]
     },
     "execution_count": 119,
     "metadata": {},
     "output_type": "execute_result"
    }
   ],
   "source": [
    "svc.predict([[2,10]])"
   ]
  },
  {
   "cell_type": "markdown",
   "metadata": {},
   "source": [
    "2,10은 1의값(녹색)을 가질 것이다. 이런 식으로, 원래 있던 데이터셋(X1,y)을 통해서 hyper plane(이번 경우에선 line)을 결정하고, 어떤 식으로 분류될 지 예측할 수 있다."
   ]
  },
  {
   "cell_type": "code",
   "execution_count": 123,
   "metadata": {},
   "outputs": [
    {
     "data": {
      "text/plain": [
       "[<matplotlib.lines.Line2D at 0x7faf26879100>]"
      ]
     },
     "execution_count": 123,
     "metadata": {},
     "output_type": "execute_result"
    },
    {
     "data": {
      "image/png": "[encoded data removed]",
      "text/plain": [
       "<Figure size 432x288 with 1 Axes>"
      ]
     },
     "metadata": {
      "needs_background": "light"
     },
     "output_type": "display_data"
    }
   ],
   "source": [
    "plt.plot(green[0],green[1],'go')\n",
    "plt.plot(blue[0],blue[1],'bo')\n",
    "x=np.linspace(0,16,20)\n",
    "a=-svc.coef_[0,0]/svc.coef_[0,1]   #### 선형 기울기는 -coef[0,0]/coef[0,1]\n",
    "b=svc.intercept_[0]/svc.coef_[0,1]    #### 선형 y절편은 intercept[0]/coef[0,1]\n",
    "plt.plot(x,a*x+b,'r-')"
   ]
  },
  {
   "cell_type": "markdown",
   "metadata": {},
   "source": [
    "### Nomlinear Support Vector Machine"
   ]
  },
  {
   "cell_type": "markdown",
   "metadata": {},
   "source": [
    "직선을 쓰지 않거나, 곡선을 써야 데이터를 분류할 수 있을 경우"
   ]
  },
  {
   "cell_type": "code",
   "execution_count": 124,
   "metadata": {
    "scrolled": true
   },
   "outputs": [
    {
     "data": {
      "text/plain": [
       "[<matplotlib.lines.Line2D at 0x7faf269a1df0>]"
      ]
     },
     "execution_count": 124,
     "metadata": {},
     "output_type": "execute_result"
    },
    {
     "data": {
      "image/png": "[encoded data removed]",
      "text/plain": [
       "<Figure size 432x288 with 1 Axes>"
      ]
     },
     "metadata": {
      "needs_background": "light"
     },
     "output_type": "display_data"
    }
   ],
   "source": [
    "green = [1,2,3,11,12]\n",
    "blue = [5,6,7]\n",
    "plt.plot(blue, [1 for i in blue],'bo')\n",
    "plt.plot(green, [1 for i in green],'go')"
   ]
  },
  {
   "cell_type": "markdown",
   "metadata": {},
   "source": [
    "##### 이런 데이터셋의 경우 Linear SVM 불가능하다. 따라서 차원을 늘려줘서 Hyper plane을 형성해준다. \n",
    "현재 1차원의 데이터셋이 존재하므로, 2차원으로 늘려주면"
   ]
  },
  {
   "cell_type": "code",
   "execution_count": 127,
   "metadata": {},
   "outputs": [
    {
     "data": {
      "text/plain": [
       "[<matplotlib.lines.Line2D at 0x7faf265f63d0>]"
      ]
     },
     "execution_count": 127,
     "metadata": {},
     "output_type": "execute_result"
    },
    {
     "data": {
      "image/png": "[encoded data removed]",
      "text/plain": [
       "<Figure size 432x288 with 1 Axes>"
      ]
     },
     "metadata": {
      "needs_background": "light"
     },
     "output_type": "display_data"
    }
   ],
   "source": [
    "plt.plot(blue,[(i-6)**2 for i in blue], 'bo')\n",
    "plt.plot(green,[(i-6)**2 for i in green], 'go')\n",
    "plt.plot(green, [5 for i in green], 'r')"
   ]
  },
  {
   "cell_type": "markdown",
   "metadata": {},
   "source": [
    "### kermel trick \n",
    "저차원에선 선형적인 구분이 불가능하지만, mapping을 통해 더 고차원으로 변환시킨 후 선형적으로 구분할 수 있게 하는 방법"
   ]
  },
  {
   "cell_type": "code",
   "execution_count": 192,
   "metadata": {},
   "outputs": [],
   "source": [
    "from sklearn.datasets.samples_generator import make_circles\n",
    "X, y= make_circles(100, factor=0.1, noise=0.1)"
   ]
  },
  {
   "cell_type": "code",
   "execution_count": 193,
   "metadata": {},
   "outputs": [
    {
     "data": {
      "text/plain": [
       "<matplotlib.collections.PathCollection at 0x7faf27b5f8b0>"
      ]
     },
     "execution_count": 193,
     "metadata": {},
     "output_type": "execute_result"
    },
    {
     "data": {
      "image/png": "[encoded data removed]",
      "text/plain": [
       "<Figure size 432x288 with 1 Axes>"
      ]
     },
     "metadata": {
      "needs_background": "light"
     },
     "output_type": "display_data"
    }
   ],
   "source": [
    "clf=SVC(kernel='linear')\n",
    "clf.fit(X,y)\n",
    "plt.scatter(X[:,0],X[:,1], c = y)"
   ]
  },
  {
   "cell_type": "code",
   "execution_count": 194,
   "metadata": {},
   "outputs": [
    {
     "data": {
      "text/plain": [
       "array([1, 1, 1, 0, 1, 1, 1, 1, 1, 1, 1, 1, 0, 1, 1, 1, 1, 1, 1, 1, 1, 1,\n",
       "       1, 1, 1, 1, 1, 1, 1, 1, 1, 1, 1, 1, 0, 0, 0, 1, 1, 1, 1, 0, 1, 1,\n",
       "       1, 1, 0, 0, 1, 0, 0, 1, 0, 1, 1, 1, 1, 1, 0, 1, 1, 1, 1, 1, 1, 1,\n",
       "       1, 1, 1, 1, 1, 1, 1, 1, 0, 0, 1, 1, 1, 1, 1, 1, 1, 0, 1, 1, 1, 1,\n",
       "       1, 1, 1, 1, 1, 1, 1, 0, 1, 1, 1, 0])"
      ]
     },
     "execution_count": 194,
     "metadata": {},
     "output_type": "execute_result"
    }
   ],
   "source": [
    "clf.predict(X)"
   ]
  },
  {
   "cell_type": "code",
   "execution_count": 195,
   "metadata": {},
   "outputs": [
    {
     "data": {
      "text/plain": [
       "<matplotlib.collections.PathCollection at 0x7faf27c46160>"
      ]
     },
     "execution_count": 195,
     "metadata": {},
     "output_type": "execute_result"
    },
    {
     "data": {
      "image/png": "[encoded data removed]",
      "text/plain": [
       "<Figure size 432x288 with 1 Axes>"
      ]
     },
     "metadata": {
      "needs_background": "light"
     },
     "output_type": "display_data"
    }
   ],
   "source": [
    "plt.scatter(X[:,0],X[:,1], c= clf.predict(X))"
   ]
  },
  {
   "cell_type": "code",
   "execution_count": 196,
   "metadata": {},
   "outputs": [
    {
     "data": {
      "text/plain": [
       "0.67"
      ]
     },
     "execution_count": 196,
     "metadata": {},
     "output_type": "execute_result"
    }
   ],
   "source": [
    "clf.score(X,y)"
   ]
  },
  {
   "cell_type": "markdown",
   "metadata": {},
   "source": [
    "#### 선형적으로 분류하였을 때 잘 맞지 않음을 확인할 수 있음"
   ]
  },
  {
   "cell_type": "code",
   "execution_count": 198,
   "metadata": {},
   "outputs": [],
   "source": [
    "SVC?"
   ]
  },
  {
   "cell_type": "code",
   "execution_count": 200,
   "metadata": {},
   "outputs": [
    {
     "data": {
      "text/plain": [
       "<matplotlib.collections.PathCollection at 0x7faf27e4d970>"
      ]
     },
     "execution_count": 200,
     "metadata": {},
     "output_type": "execute_result"
    },
    {
     "data": {
      "image/png": "[encoded data removed]",
      "text/plain": [
       "<Figure size 432x288 with 1 Axes>"
      ]
     },
     "metadata": {
      "needs_background": "light"
     },
     "output_type": "display_data"
    }
   ],
   "source": [
    "clf2 = SVC(gamma = 'auto')\n",
    "clf2.fit(X,y)\n",
    "plt.scatter(X[:,0],X[:,1],c=clf2.predict(X))"
   ]
  },
  {
   "cell_type": "markdown",
   "metadata": {},
   "source": [
    "#### 기본 kernel은 rbf로 설정되어있음. 분류하는 방법은 여러가지가 존재함. linear, rbf 등등.... rbf를 kernel로 설정하였을 때 잘 분류되어짐을 확인할 수 있음"
   ]
  },
  {
   "cell_type": "code",
   "execution_count": 201,
   "metadata": {},
   "outputs": [
    {
     "data": {
      "text/plain": [
       "1.0"
      ]
     },
     "execution_count": 201,
     "metadata": {},
     "output_type": "execute_result"
    }
   ],
   "source": [
    "clf2.score(X,y)"
   ]
  },
  {
   "cell_type": "code",
   "execution_count": null,
   "metadata": {},
   "outputs": [],
   "source": []
  }
 ],
 "metadata": {
  "kernelspec": {
   "display_name": "Python 3",
   "language": "python",
   "name": "python3"
  },
  "language_info": {
   "codemirror_mode": {
    "name": "ipython",
    "version": 3
   },
   "file_extension": ".py",
   "mimetype": "text/x-python",
   "name": "python",
   "nbconvert_exporter": "python",
   "pygments_lexer": "ipython3",
   "version": "3.8.3"
  }
 },
 "nbformat": 4,
 "nbformat_minor": 4
}

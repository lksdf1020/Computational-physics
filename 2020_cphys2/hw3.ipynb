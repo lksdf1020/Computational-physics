{
 "cells": [
  {
   "cell_type": "markdown",
   "metadata": {},
   "source": [
    "# Boston house price "
   ]
  },
  {
   "cell_type": "code",
   "execution_count": 1,
   "metadata": {},
   "outputs": [],
   "source": [
    "from sklearn.datasets import load_boston, load_diabetes\n",
    "from sklearn.linear_model import LinearRegression, Lasso\n",
    "import matplotlib.pyplot as plt\n",
    "import numpy as np"
   ]
  },
  {
   "cell_type": "code",
   "execution_count": 2,
   "metadata": {},
   "outputs": [],
   "source": [
    "Boston = load_boston()"
   ]
  },
  {
   "cell_type": "code",
   "execution_count": 3,
   "metadata": {},
   "outputs": [],
   "source": [
    "X = Boston.data\n",
    "y = Boston.target"
   ]
  },
  {
   "cell_type": "code",
   "execution_count": 4,
   "metadata": {},
   "outputs": [],
   "source": [
    "reg = LinearRegression()\n",
    "lasso_reg = Lasso(alpha=1)"
   ]
  },
  {
   "cell_type": "code",
   "execution_count": 5,
   "metadata": {},
   "outputs": [
    {
     "data": {
      "text/plain": [
       "Lasso(alpha=1)"
      ]
     },
     "execution_count": 5,
     "metadata": {},
     "output_type": "execute_result"
    }
   ],
   "source": [
    "reg.fit(X,y)\n",
    "lasso_reg.fit(X,y)"
   ]
  },
  {
   "cell_type": "code",
   "execution_count": 6,
   "metadata": {},
   "outputs": [
    {
     "name": "stdout",
     "output_type": "stream",
     "text": [
      "CRIM : -0.10801\n",
      "ZN : 0.04642\n",
      "INDUS : 0.02056\n",
      "CHAS : 2.68673\n",
      "NOX : -17.76661\n",
      "RM : 3.80987\n",
      "AGE : 0.00069\n",
      "DIS : -1.47557\n",
      "RAD : 0.30605\n",
      "TAX : -0.01233\n",
      "PTRATIO : -0.95275\n",
      "B : 0.00931\n",
      "LSTAT : -0.52476\n"
     ]
    }
   ],
   "source": [
    "for i in range (len(reg.coef_)):\n",
    "    print(Boston.feature_names[i],':',round(reg.coef_[i],5))"
   ]
  },
  {
   "cell_type": "code",
   "execution_count": 7,
   "metadata": {},
   "outputs": [
    {
     "name": "stdout",
     "output_type": "stream",
     "text": [
      "CRIM : -0.06344\n",
      "ZN : 0.04916\n",
      "INDUS : -0.0\n",
      "CHAS : 0.0\n",
      "NOX : -0.0\n",
      "RM : 0.94981\n",
      "AGE : 0.02091\n",
      "DIS : -0.66879\n",
      "RAD : 0.26421\n",
      "TAX : -0.01521\n",
      "PTRATIO : -0.72297\n",
      "B : 0.00825\n",
      "LSTAT : -0.76111\n"
     ]
    }
   ],
   "source": [
    "for i in range (len(lasso_reg.coef_)):\n",
    "    print(Boston.feature_names[i],':',round(lasso_reg.coef_[i],5))"
   ]
  },
  {
   "cell_type": "markdown",
   "metadata": {},
   "source": [
    "#### 해당 alpha값에서 13개의 가중치 중 3개 -> 0 , 10개의 변수만 사용되었다. \n",
    "\n",
    "10개의 변수 중 RM(방의 개수), DIS(일자리 중심가까지의 거리), LSTAT(저소득층 인구 비율)와 PTRATIO(교생 인구 비율)의 가중치가 가장 높게 책정되었다. "
   ]
  },
  {
   "cell_type": "code",
   "execution_count": 8,
   "metadata": {},
   "outputs": [
    {
     "data": {
      "text/plain": [
       "0.6825842212709925"
      ]
     },
     "execution_count": 8,
     "metadata": {},
     "output_type": "execute_result"
    }
   ],
   "source": [
    "lasso_reg.score(X,y)"
   ]
  },
  {
   "cell_type": "code",
   "execution_count": 9,
   "metadata": {},
   "outputs": [
    {
     "data": {
      "text/plain": [
       "0.7406426641094095"
      ]
     },
     "execution_count": 9,
     "metadata": {},
     "output_type": "execute_result"
    }
   ],
   "source": [
    "reg.score(X,y)"
   ]
  },
  {
   "cell_type": "markdown",
   "metadata": {},
   "source": [
    "#### lasso_reg.score은 실제 13개의 변수를 고려하였을 때(reg.score)보다 더 낮은 score값을 보이는 것을 확인할 수 있음(overfitting 방지)"
   ]
  },
  {
   "cell_type": "code",
   "execution_count": 10,
   "metadata": {},
   "outputs": [
    {
     "data": {
      "text/plain": [
       "<matplotlib.collections.PathCollection at 0x7f7f58466fa0>"
      ]
     },
     "execution_count": 10,
     "metadata": {},
     "output_type": "execute_result"
    },
    {
     "data": {
      "image/png": "[encoded data removed]",
      "text/plain": [
       "<Figure size 432x288 with 1 Axes>"
      ]
     },
     "metadata": {
      "needs_background": "light"
     },
     "output_type": "display_data"
    }
   ],
   "source": [
    "x=[i[5] for i in X]\n",
    "plt.scatter(x,y)"
   ]
  },
  {
   "cell_type": "markdown",
   "metadata": {},
   "source": [
    "#### 그래프 1. 가장 높은 가중치를 받은 RM(방의 갯수) 대비 Housing price 관계 그래프"
   ]
  },
  {
   "cell_type": "markdown",
   "metadata": {},
   "source": [
    "#   "
   ]
  },
  {
   "cell_type": "markdown",
   "metadata": {},
   "source": [
    "# Diabetes"
   ]
  },
  {
   "cell_type": "code",
   "execution_count": 40,
   "metadata": {},
   "outputs": [],
   "source": [
    "Dia = load_diabetes()"
   ]
  },
  {
   "cell_type": "code",
   "execution_count": 41,
   "metadata": {},
   "outputs": [],
   "source": [
    "Dia_X = Dia.data\n",
    "Dia_y = Dia.target"
   ]
  },
  {
   "cell_type": "code",
   "execution_count": 42,
   "metadata": {},
   "outputs": [],
   "source": [
    "Dia_reg = LinearRegression()\n",
    "Dia_lasso_reg = Lasso(alpha =0.3)"
   ]
  },
  {
   "cell_type": "code",
   "execution_count": 43,
   "metadata": {},
   "outputs": [
    {
     "data": {
      "text/plain": [
       "Lasso(alpha=0.3)"
      ]
     },
     "execution_count": 43,
     "metadata": {},
     "output_type": "execute_result"
    }
   ],
   "source": [
    "Dia_reg.fit(Dia_X,Dia_y)\n",
    "Dia_lasso_reg.fit(Dia_X,Dia_y)"
   ]
  },
  {
   "cell_type": "code",
   "execution_count": 44,
   "metadata": {},
   "outputs": [],
   "source": [
    "Dia.feature_names = ['age', 'sex', 'bmi', 'bp', 'tc', 'ldl', 'hdl', 'tch', 'ltg', 'glu']"
   ]
  },
  {
   "cell_type": "code",
   "execution_count": 45,
   "metadata": {},
   "outputs": [
    {
     "name": "stdout",
     "output_type": "stream",
     "text": [
      "age : -10.0122\n",
      "sex : -239.81909\n",
      "bmi : 519.83979\n",
      "bp : 324.39043\n",
      "tc : -792.18416\n",
      "ldl : 476.74584\n",
      "hdl : 101.04457\n",
      "tch : 177.06418\n",
      "ltg : 751.27932\n",
      "glu : 67.62539\n"
     ]
    }
   ],
   "source": [
    "for i in range (len(Dia_reg.coef_)):\n",
    "    print(Dia.feature_names[i],':',round(Dia_reg.coef_[i],5))"
   ]
  },
  {
   "cell_type": "code",
   "execution_count": 46,
   "metadata": {},
   "outputs": [
    {
     "name": "stdout",
     "output_type": "stream",
     "text": [
      "age : 0.0\n",
      "sex : -0.0\n",
      "bmi : 504.74642\n",
      "bp : 189.77655\n",
      "tc : -0.0\n",
      "ldl : -0.0\n",
      "hdl : -112.57274\n",
      "tch : 0.0\n",
      "ltg : 438.79991\n",
      "glu : 0.0\n"
     ]
    }
   ],
   "source": [
    "for i in range (len(Dia_reg.coef_)):\n",
    "    print(Dia.feature_names[i],':',round(Dia_lasso_reg.coef_[i],5))"
   ]
  },
  {
   "cell_type": "markdown",
   "metadata": {},
   "source": [
    "#### alpha = 0.3에서 10개의 가중치 중 6개 -> 0, 4개의 변수만 살아남음\n",
    "bmi(체질량 지수), bp(혈압 수치), ltg(라모트리진 수치)와 정비례 관계를 보인다"
   ]
  },
  {
   "cell_type": "code",
   "execution_count": 47,
   "metadata": {},
   "outputs": [
    {
     "data": {
      "text/plain": [
       "0.47844693026055474"
      ]
     },
     "execution_count": 47,
     "metadata": {},
     "output_type": "execute_result"
    }
   ],
   "source": [
    "Dia_lasso_reg.score(Dia_X,Dia_y)"
   ]
  },
  {
   "cell_type": "code",
   "execution_count": 48,
   "metadata": {},
   "outputs": [
    {
     "data": {
      "text/plain": [
       "0.5177494254132934"
      ]
     },
     "execution_count": 48,
     "metadata": {},
     "output_type": "execute_result"
    }
   ],
   "source": [
    "Dia_reg.score(Dia_X,Dia_y)"
   ]
  },
  {
   "cell_type": "code",
   "execution_count": 49,
   "metadata": {
    "scrolled": true
   },
   "outputs": [
    {
     "data": {
      "text/plain": [
       "<matplotlib.collections.PathCollection at 0x7f7f588d4400>"
      ]
     },
     "execution_count": 49,
     "metadata": {},
     "output_type": "execute_result"
    },
    {
     "data": {
      "image/png": "[encoded data removed]",
      "text/plain": [
       "<Figure size 432x288 with 1 Axes>"
      ]
     },
     "metadata": {
      "needs_background": "light"
     },
     "output_type": "display_data"
    }
   ],
   "source": [
    "D_x=[i[2] for i in Dia_X]\n",
    "plt.scatter(D_x,Dia_y)"
   ]
  },
  {
   "cell_type": "markdown",
   "metadata": {},
   "source": [
    "#### 그래프 2. 가장 높은 가중치를 받은 bmi(체질량 지수)와 당뇨 수치(442명의 당뇨 환자 중)"
   ]
  },
  {
   "cell_type": "code",
   "execution_count": 50,
   "metadata": {
    "scrolled": true
   },
   "outputs": [
    {
     "data": {
      "text/plain": [
       "<matplotlib.collections.PathCollection at 0x7f7f5898af10>"
      ]
     },
     "execution_count": 50,
     "metadata": {},
     "output_type": "execute_result"
    },
    {
     "data": {
      "image/png": "[encoded data removed]",
      "text/plain": [
       "<Figure size 432x288 with 1 Axes>"
      ]
     },
     "metadata": {
      "needs_background": "light"
     },
     "output_type": "display_data"
    }
   ],
   "source": [
    "D_x=[i[0] for i in Dia_X]\n",
    "plt.scatter(D_x,Dia_y)"
   ]
  },
  {
   "cell_type": "markdown",
   "metadata": {},
   "source": [
    "#### 그래프 3. 가중치 0에 해당하는 age(나이)와 당뇨 수치(442명의 당뇨 환자 중)\n",
    "뚜렷한 추세 없이 산개적으로 분포되어있음을 확인할 수 있다."
   ]
  }
 ],
 "metadata": {
  "kernelspec": {
   "display_name": "Python 3",
   "language": "python",
   "name": "python3"
  },
  "language_info": {
   "codemirror_mode": {
    "name": "ipython",
    "version": 3
   },
   "file_extension": ".py",
   "mimetype": "text/x-python",
   "name": "python",
   "nbconvert_exporter": "python",
   "pygments_lexer": "ipython3",
   "version": "3.8.3"
  }
 },
 "nbformat": 4,
 "nbformat_minor": 4
}
